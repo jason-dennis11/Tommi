{
 "cells": [
  {
   "cell_type": "code",
   "execution_count": 52,
   "metadata": {
    "collapsed": true
   },
   "outputs": [],
   "source": [
    "import numpy as np\n",
    "import pylab as plt\n",
    "\n",
    "# map cell to cell, add circular cell to goal point\n",
    "points_list = [(0,1), (1,2), (0,2), (2,1)]"
   ]
  },
  {
   "cell_type": "code",
   "execution_count": 64,
   "metadata": {
    "collapsed": false
   },
   "outputs": [
    {
     "data": {
      "image/png": "[encoded data removed]",
      "text/plain": [
       "<matplotlib.figure.Figure at 0x23db2f55668>"
      ]
     },
     "metadata": {},
     "output_type": "display_data"
    }
   ],
   "source": [
    "goal = 7\n",
    "\n",
    "import networkx as nx\n",
    "G=nx.Graph()\n",
    "G.add_edges_from(points_list)\n",
    "pos = nx.spring_layout(G)\n",
    "nx.draw_networkx_nodes(G,pos)\n",
    "nx.draw_networkx_edges(G,pos)\n",
    "nx.draw_networkx_labels(G,pos)\n",
    "plt.show()"
   ]
  },
  {
   "cell_type": "code",
   "execution_count": 54,
   "metadata": {
    "collapsed": false
   },
   "outputs": [],
   "source": [
    "# how many points in graph? x points\n",
    "MATRIX_SIZE = 3\n",
    "\n",
    "# create matrix x*y\n",
    "R = np.matrix(np.ones(shape=(MATRIX_SIZE, MATRIX_SIZE)))\n",
    "R *= -1"
   ]
  },
  {
   "cell_type": "code",
   "execution_count": 55,
   "metadata": {
    "collapsed": false
   },
   "outputs": [
    {
     "data": {
      "text/plain": [
       "matrix([[ -3,   5, -30],\n",
       "        [  5,  -3, -30],\n",
       "        [ 15,  10, -10]])"
      ]
     },
     "execution_count": 55,
     "metadata": {},
     "output_type": "execute_result"
    }
   ],
   "source": [
    "R = np.matrix([[-3, 5, -30], [5, -3, -30], [15, 10, -10]])\n",
    "R"
   ]
  },
  {
   "cell_type": "code",
   "execution_count": 56,
   "metadata": {
    "collapsed": false
   },
   "outputs": [
    {
     "data": {
      "text/plain": [
       "[(5, 1)]"
      ]
     },
     "execution_count": 56,
     "metadata": {},
     "output_type": "execute_result"
    }
   ],
   "source": [
    "[(1,5)[::-1]] \n",
    "#(1,5)[0]"
   ]
  },
  {
   "cell_type": "code",
   "execution_count": 57,
   "metadata": {
    "collapsed": false
   },
   "outputs": [],
   "source": [
    "# # assign zeros to paths and 100 to goal-reaching point\n",
    "# for point in points_list:\n",
    "#     print(point)\n",
    "#     if point[1] == goal:\n",
    "#         R[point] = 100\n",
    "#     else:\n",
    "#         R[point] = 0\n",
    "\n",
    "#     if point[0] == goal:\n",
    "#         R[point[::-1]] = 100\n",
    "#     else:\n",
    "#         # reverse of point\n",
    "#         R[point[::-1]]= 0\n",
    "\n",
    "# # add goal point round trip\n",
    "# R[goal,goal]= 100\n",
    "\n",
    "# R"
   ]
  },
  {
   "cell_type": "code",
   "execution_count": 58,
   "metadata": {
    "collapsed": false
   },
   "outputs": [
    {
     "name": "stdout",
     "output_type": "stream",
     "text": [
      "max_value 5.0\n"
     ]
    },
    {
     "data": {
      "text/plain": [
       "100.0"
      ]
     },
     "execution_count": 58,
     "metadata": {},
     "output_type": "execute_result"
    }
   ],
   "source": [
    "Q = np.matrix(np.zeros([MATRIX_SIZE,MATRIX_SIZE]))\n",
    "\n",
    "# learning parameter\n",
    "gamma = 0.8\n",
    "\n",
    "initial_state = 1\n",
    "\n",
    "def available_actions(state):\n",
    "    #Gets state row from reward matrix\n",
    "    current_state_row = R[state,]\n",
    "    \n",
    "    #Available actions that are greater than 0\n",
    "    av_act = np.where(current_state_row >= 0)[1]\n",
    "    return av_act\n",
    "\n",
    "available_act = available_actions(initial_state) \n",
    "\n",
    "def sample_next_action(available_actions_range):\n",
    "    #Randomly choose an action from available actions\n",
    "    next_action = int(np.random.choice(available_act,1))\n",
    "    return next_action\n",
    "\n",
    "action = sample_next_action(available_act)\n",
    "\n",
    "def update(current_state, action, gamma):\n",
    "    \n",
    "    #Gets the index of the maximum Q value - could return a matrix \n",
    "    max_index = np.where(Q[action,] == np.max(Q[action,]))[1]\n",
    "  \n",
    "    #If it is a matrix, randomly choose best choice and get index\n",
    "    if max_index.shape[0] > 1:\n",
    "        max_index = int(np.random.choice(max_index, size = 1))\n",
    "    else:\n",
    "        #If not a matrix, then get index\n",
    "        max_index = int(max_index)\n",
    "    \n",
    "    #Gets the Q value from Q matrix\n",
    "    max_value = Q[action, max_index]\n",
    "    \n",
    "    #Update Q matrix \n",
    "    Q[current_state, action] = R[current_state, action] + gamma * max_value\n",
    "    print('max_value', R[current_state, action] + gamma * max_value)\n",
    "  \n",
    "    if (np.max(Q) > 0):\n",
    "        return(np.sum(Q/np.max(Q)*100))\n",
    "    else:\n",
    "        return (0)\n",
    "    \n",
    "update(initial_state, action, gamma)"
   ]
  },
  {
   "cell_type": "code",
   "execution_count": 59,
   "metadata": {
    "collapsed": false
   },
   "outputs": [
    {
     "data": {
      "text/plain": [
       "array([0], dtype=int64)"
      ]
     },
     "execution_count": 59,
     "metadata": {},
     "output_type": "execute_result"
    }
   ],
   "source": [
    "current_state_row = R[1,]\n",
    "current_state_row\n",
    "av_act = np.where(current_state_row >= 0)[1]\n",
    "av_act\n"
   ]
  },
  {
   "cell_type": "code",
   "execution_count": 62,
   "metadata": {
    "collapsed": false,
    "scrolled": true
   },
   "outputs": [
    {
     "name": "stdout",
     "output_type": "stream",
     "text": [
      "max_value 18.4464\n",
      "Score: 250.361675993\n",
      "max_value 19.75712\n",
      "Score: 262.939811656\n",
      "max_value 20.805696\n",
      "Score: 273.002320186\n",
      "max_value 25.805696\n",
      "Score: 257.185514392\n",
      "max_value 21.6445568\n",
      "Score: 264.499546147\n",
      "max_value 21.6445568\n",
      "Score: 264.499546147\n",
      "max_value 22.31564544\n",
      "Score: 270.350771551\n",
      "max_value 22.852516352\n",
      "Score: 275.031751874\n",
      "max_value 32.852516352\n",
      "Score: 316.037812847\n",
      "max_value 22.852516352\n",
      "Score: 316.037812847\n",
      "max_value 22.852516352\n",
      "Score: 316.037812847\n",
      "max_value 32.852516352\n",
      "Score: 316.037812847\n",
      "max_value 22.852516352\n",
      "Score: 316.037812847\n",
      "max_value 23.2820130816\n",
      "Score: 318.979345944\n",
      "max_value 33.6256104653\n",
      "Score: 313.944741636\n",
      "max_value 23.2820130816\n",
      "Score: 313.944741636\n",
      "max_value 28.2820130816\n",
      "Score: 321.309119702\n",
      "max_value 23.6256104653\n",
      "Score: 323.608242611\n",
      "max_value 23.9004883722\n",
      "Score: 325.447540937\n",
      "max_value 23.9004883722\n",
      "Score: 325.447540937\n",
      "max_value 24.1203906978\n",
      "Score: 326.918979599\n",
      "max_value 24.2963125582\n",
      "Score: 328.096130528\n",
      "max_value 24.4370500466\n",
      "Score: 329.037851271\n",
      "max_value 24.4370500466\n",
      "Score: 329.037851271\n",
      "max_value 24.5496400373\n",
      "Score: 329.791227866\n",
      "max_value 24.6397120298\n",
      "Score: 330.393929141\n",
      "max_value 34.6397120298\n",
      "Score: 323.648987272\n",
      "max_value 29.7117696238\n",
      "Score: 327.776494282\n",
      "max_value 24.6397120298\n",
      "Score: 327.776494282\n",
      "max_value 34.6397120298\n",
      "Score: 327.776494282\n",
      "max_value 24.6397120298\n",
      "Score: 327.776494282\n",
      "max_value 24.7117696238\n",
      "Score: 328.244539705\n",
      "max_value 24.7117696238\n",
      "Score: 328.244539705\n",
      "max_value 24.7117696238\n",
      "Score: 328.244539705\n",
      "max_value 34.7694156991\n",
      "Score: 327.393097318\n",
      "max_value 24.7694156991\n",
      "Score: 327.766136861\n",
      "max_value 24.7694156991\n",
      "Score: 327.766136861\n",
      "max_value 24.8155325593\n",
      "Score: 328.064568495\n",
      "max_value 34.8524260474\n",
      "Score: 327.521371896\n",
      "max_value 24.8155325593\n",
      "Score: 327.521371896\n",
      "max_value 24.8524260474\n",
      "Score: 327.759548568\n",
      "max_value 24.8819408379\n",
      "Score: 327.950089905\n",
      "max_value 24.8819408379\n",
      "Score: 327.950089905\n",
      "max_value 24.9055526703\n",
      "Score: 328.102522975\n",
      "max_value 24.9244421363\n",
      "Score: 328.224469431\n",
      "max_value 24.9244421363\n",
      "Score: 328.224469431\n",
      "max_value 24.9244421363\n",
      "Score: 328.224469431\n",
      "max_value 24.9244421363\n",
      "Score: 328.224469431\n",
      "max_value 24.9244421363\n",
      "Score: 328.224469431\n",
      "max_value 24.9244421363\n",
      "Score: 328.224469431\n",
      "Trained Q matrix:\n",
      "[[   0.           71.5142243     0.        ]\n",
      " [  71.46002587    0.            0.        ]\n",
      " [ 100.           85.25021926    0.        ]]\n"
     ]
    }
   ],
   "source": [
    "# Training\n",
    "scores = []\n",
    "for i in range(50):\n",
    "    #Randomly choose initial state\n",
    "    current_state = np.random.randint(0, int(Q.shape[0]))\n",
    "    available_act = available_actions(current_state)\n",
    "    action = sample_next_action(available_act)\n",
    "    score = update(current_state,action,gamma)\n",
    "    scores.append(score)\n",
    "    print ('Score:', str(score))\n",
    "    \n",
    "print(\"Trained Q matrix:\")\n",
    "print(Q/np.max(Q)*100)\n",
    "\n",
    "# Testing\n",
    "current_state = 0\n",
    "steps = [current_state]\n",
    "\n",
    "while current_state != 1:\n",
    "    \n",
    "    #While the agent does not get to the goal, then pick max Q value to determine next step \n",
    "    next_step_index = np.where(Q[current_state,] == np.max(Q[current_state,]))[1]\n",
    "    \n",
    "    if next_step_index.shape[0] > 1:\n",
    "        next_step_index = int(np.random.choice(next_step_index, size = 1))\n",
    "    else:\n",
    "        next_step_index = int(next_step_index)\n",
    "    \n",
    "    steps.append(next_step_index)\n",
    "    current_state = next_step_index"
   ]
  },
  {
   "cell_type": "code",
   "execution_count": 63,
   "metadata": {
    "collapsed": false
   },
   "outputs": [
    {
     "name": "stdout",
     "output_type": "stream",
     "text": [
      "Most efficient path:\n",
      "[0, 1]\n"
     ]
    },
    {
     "data": {
      "image/png": "[encoded data removed]",
      "text/plain": [
       "<matplotlib.figure.Figure at 0x23db3016ac8>"
      ]
     },
     "metadata": {},
     "output_type": "display_data"
    }
   ],
   "source": [
    "print(\"Most efficient path:\")\n",
    "print(steps)\n",
    "\n",
    "plt.plot(scores)\n",
    "plt.show()"
   ]
  },
  {
   "cell_type": "code",
   "execution_count": null,
   "metadata": {
    "collapsed": true
   },
   "outputs": [],
   "source": []
  }
 ],
 "metadata": {
  "anaconda-cloud": {},
  "kernelspec": {
   "display_name": "Python [conda root]",
   "language": "python",
   "name": "conda-root-py"
  },
  "language_info": {
   "codemirror_mode": {
    "name": "ipython",
    "version": 3
   },
   "file_extension": ".py",
   "mimetype": "text/x-python",
   "name": "python",
   "nbconvert_exporter": "python",
   "pygments_lexer": "ipython3",
   "version": "3.5.2"
  }
 },
 "nbformat": 4,
 "nbformat_minor": 1
}
